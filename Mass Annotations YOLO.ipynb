{
 "cells": [
  {
   "cell_type": "code",
   "execution_count": null,
   "id": "04788925",
   "metadata": {},
   "outputs": [],
   "source": [
    "#Mass Image Annotations for jpg files inside a specific folder for YOLO format\n",
    "#Open for code suggestions/code optimization\n",
    "#Thanks"
   ]
  },
  {
   "cell_type": "code",
   "execution_count": 63,
   "id": "400d0dfa",
   "metadata": {
    "scrolled": true
   },
   "outputs": [],
   "source": [
    "import os\n",
    "import cv2\n",
    "import numpy as np\n",
    "import glob\n",
    "\n",
    "#Trained weights file that can detect object/facemask and cfg file\n",
    "Weights =\"assets/mask-yolov3-tiny-prn.weights\"\n",
    "cfg = \"assets/mask-yolov3-tiny-prn.cfg\"\n",
    "\n",
    "net = cv2.dnn.readNetFromDarknet(cfg, Weights)\n",
    "\n",
    "path = \"C:/Users/User/Project/assets\"\n",
    "for filename in glob.glob(os.path.join(path, '*.jpg')):\n",
    "   with open(os.path.join(os.getcwd(), filename), 'r') as f:\n",
    "    # For getting the filename/I wanted to create .txt file for every image file(ex. image1.jpg will have image1.txt for annotations) \n",
    "    filex = filename.replace(\"C:/Users/User/Project/assets\\\\\",'') \n",
    "    filey = filex.replace(\".jpg\",'')\n",
    "    \n",
    "    orig = cv2.imread(filename)\n",
    "    img = cv2.resize(orig, (960, 540))  # To fit to screen(Optional)\n",
    "    height, width, _ = img.shape\n",
    "    \n",
    "    blob = cv2.dnn.blobFromImage(img, 1/255, (416,416), (0,0,0), swapRB=True, crop=False)\n",
    "    net.setInput(blob)\n",
    "    output_layers_names = net.getUnconnectedOutLayersNames()\n",
    "    layerOutputs = net.forward(output_layers_names)\n",
    "    boxes = []\n",
    "    confidences = []\n",
    "    class_ids = []\n",
    "    annotationf = filey + \".txt\"\n",
    "    f = open(\"assets/annotations/\"+annotationf, \"a\") #create file image.txt and save it to specific path(in here assets/annotations)\n",
    "    for output in layerOutputs:\n",
    "        for detection in output:\n",
    "            scores = detection[5:]\n",
    "            class_id = np.argmax(scores)\n",
    "            confidence = scores[class_id]\n",
    "            if confidence > 0.5:\n",
    "                f.write(str(detection[0])+\" \")\n",
    "                f.write(str(detection[1])+\" \")\n",
    "                f.write(str(detection[2])+\" \")\n",
    "                f.write(str(detection[3])+\" \")\n",
    "                f.write(\"\\n\")\n",
    "    f.close()"
   ]
  },
  {
   "cell_type": "code",
   "execution_count": null,
   "id": "cea2a79c",
   "metadata": {},
   "outputs": [],
   "source": []
  }
 ],
 "metadata": {
  "kernelspec": {
   "display_name": "Python 3",
   "language": "python",
   "name": "python3"
  },
  "language_info": {
   "codemirror_mode": {
    "name": "ipython",
    "version": 3
   },
   "file_extension": ".py",
   "mimetype": "text/x-python",
   "name": "python",
   "nbconvert_exporter": "python",
   "pygments_lexer": "ipython3",
   "version": "3.8.8"
  }
 },
 "nbformat": 4,
 "nbformat_minor": 5
}
